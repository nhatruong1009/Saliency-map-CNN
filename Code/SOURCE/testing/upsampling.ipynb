{
 "cells": [
  {
   "cell_type": "code",
   "execution_count": 1,
   "metadata": {},
   "outputs": [],
   "source": [
    "import cv2\n",
    "import numpy as np"
   ]
  },
  {
   "cell_type": "code",
   "execution_count": 2,
   "metadata": {},
   "outputs": [],
   "source": [
    "activation = np.array([ [1,1,1,1,1,1,1],\n",
    "                        [1,1,1,1,1,1,1],\n",
    "                        [1,1,1,1,1,1,2],\n",
    "                        [1,5,4,1,5,1,1],\n",
    "                        [1,3,2,1,1,1,1],\n",
    "                        [1,1,1,1,1,1,1],\n",
    "                        [1,1,1,1,1,1,1]], dtype=np.uint8)\n",
    "gradient = np.array([   [1,1,1,1,1,1,1],\n",
    "                        [1,1,1,1,1,1,1],\n",
    "                        [1,1,1,1,1,1,2],\n",
    "                        [1,1,1,1,3,1,1],\n",
    "                        [1,5,1,1,1,1,1],\n",
    "                        [1,1,1,1,1,1,1],\n",
    "                        [1,1,1,1,1,1,1]], dtype=np.uint8)\n",
    "activation = np.expand_dims(activation, axis=-1)\n",
    "gradient = np.expand_dims(gradient, axis=-1)\n",
    "target_size = (14,14)"
   ]
  },
  {
   "cell_type": "code",
   "execution_count": 3,
   "metadata": {},
   "outputs": [],
   "source": [
    "activation_up = cv2.resize(activation, target_size)\n",
    "gradient_up = cv2.resize(gradient, target_size)"
   ]
  },
  {
   "cell_type": "code",
   "execution_count": 4,
   "metadata": {},
   "outputs": [
    {
     "data": {
      "text/plain": [
       "array([[1, 1, 1, 1, 1, 1, 1, 1, 1, 1, 1, 1, 1, 1],\n",
       "       [1, 1, 1, 1, 1, 1, 1, 1, 1, 1, 1, 1, 1, 1],\n",
       "       [1, 1, 1, 1, 1, 1, 1, 1, 1, 1, 1, 1, 1, 1],\n",
       "       [1, 1, 1, 1, 1, 1, 1, 1, 1, 1, 1, 1, 1, 1],\n",
       "       [1, 1, 1, 1, 1, 1, 1, 1, 1, 1, 1, 1, 2, 2],\n",
       "       [1, 1, 2, 2, 2, 2, 1, 1, 2, 2, 1, 1, 2, 2],\n",
       "       [1, 2, 3, 4, 3, 3, 2, 2, 3, 3, 2, 1, 1, 1],\n",
       "       [1, 2, 4, 4, 4, 3, 2, 2, 3, 3, 2, 1, 1, 1],\n",
       "       [1, 2, 3, 3, 3, 2, 1, 1, 2, 2, 1, 1, 1, 1],\n",
       "       [1, 1, 2, 2, 2, 2, 1, 1, 1, 1, 1, 1, 1, 1],\n",
       "       [1, 1, 1, 1, 1, 1, 1, 1, 1, 1, 1, 1, 1, 1],\n",
       "       [1, 1, 1, 1, 1, 1, 1, 1, 1, 1, 1, 1, 1, 1],\n",
       "       [1, 1, 1, 1, 1, 1, 1, 1, 1, 1, 1, 1, 1, 1],\n",
       "       [1, 1, 1, 1, 1, 1, 1, 1, 1, 1, 1, 1, 1, 1]], dtype=uint8)"
      ]
     },
     "execution_count": 4,
     "metadata": {},
     "output_type": "execute_result"
    }
   ],
   "source": [
    "activation_up"
   ]
  },
  {
   "cell_type": "code",
   "execution_count": 5,
   "metadata": {},
   "outputs": [
    {
     "data": {
      "text/plain": [
       "array([[1, 1, 1, 1, 1, 1, 1, 1, 1, 1, 1, 1, 1, 1],\n",
       "       [1, 1, 1, 1, 1, 1, 1, 1, 1, 1, 1, 1, 1, 1],\n",
       "       [1, 1, 1, 1, 1, 1, 1, 1, 1, 1, 1, 1, 1, 1],\n",
       "       [1, 1, 1, 1, 1, 1, 1, 1, 1, 1, 1, 1, 1, 1],\n",
       "       [1, 1, 1, 1, 1, 1, 1, 1, 1, 1, 1, 1, 2, 2],\n",
       "       [1, 1, 1, 1, 1, 1, 1, 1, 1, 1, 1, 1, 2, 2],\n",
       "       [1, 1, 1, 1, 1, 1, 1, 1, 2, 2, 1, 1, 1, 1],\n",
       "       [1, 1, 2, 2, 1, 1, 1, 1, 2, 2, 1, 1, 1, 1],\n",
       "       [1, 2, 3, 3, 2, 1, 1, 1, 1, 1, 1, 1, 1, 1],\n",
       "       [1, 2, 3, 3, 2, 1, 1, 1, 1, 1, 1, 1, 1, 1],\n",
       "       [1, 1, 2, 2, 1, 1, 1, 1, 1, 1, 1, 1, 1, 1],\n",
       "       [1, 1, 1, 1, 1, 1, 1, 1, 1, 1, 1, 1, 1, 1],\n",
       "       [1, 1, 1, 1, 1, 1, 1, 1, 1, 1, 1, 1, 1, 1],\n",
       "       [1, 1, 1, 1, 1, 1, 1, 1, 1, 1, 1, 1, 1, 1]], dtype=uint8)"
      ]
     },
     "execution_count": 5,
     "metadata": {},
     "output_type": "execute_result"
    }
   ],
   "source": [
    "gradient_up"
   ]
  },
  {
   "cell_type": "code",
   "execution_count": 6,
   "metadata": {},
   "outputs": [
    {
     "data": {
      "text/plain": [
       "array([[1, 1, 1, 1, 1, 1, 1, 1, 1, 1, 1, 1, 1, 1],\n",
       "       [1, 1, 1, 1, 1, 1, 1, 1, 1, 1, 1, 1, 1, 1],\n",
       "       [1, 1, 1, 1, 1, 1, 1, 1, 1, 1, 1, 1, 1, 1],\n",
       "       [1, 1, 1, 1, 1, 1, 1, 1, 1, 1, 1, 1, 1, 1],\n",
       "       [1, 1, 1, 1, 1, 1, 1, 1, 1, 1, 1, 1, 4, 4],\n",
       "       [1, 1, 2, 2, 2, 2, 1, 1, 2, 2, 1, 1, 4, 4],\n",
       "       [1, 2, 3, 4, 3, 3, 2, 2, 6, 6, 2, 1, 1, 1],\n",
       "       [1, 2, 8, 8, 4, 3, 2, 2, 6, 6, 2, 1, 1, 1],\n",
       "       [1, 4, 9, 9, 6, 2, 1, 1, 2, 2, 1, 1, 1, 1],\n",
       "       [1, 2, 6, 6, 4, 2, 1, 1, 1, 1, 1, 1, 1, 1],\n",
       "       [1, 1, 2, 2, 1, 1, 1, 1, 1, 1, 1, 1, 1, 1],\n",
       "       [1, 1, 1, 1, 1, 1, 1, 1, 1, 1, 1, 1, 1, 1],\n",
       "       [1, 1, 1, 1, 1, 1, 1, 1, 1, 1, 1, 1, 1, 1],\n",
       "       [1, 1, 1, 1, 1, 1, 1, 1, 1, 1, 1, 1, 1, 1]], dtype=uint8)"
      ]
     },
     "execution_count": 6,
     "metadata": {},
     "output_type": "execute_result"
    }
   ],
   "source": [
    "total = activation_up * gradient_up\n",
    "total"
   ]
  },
  {
   "cell_type": "code",
   "execution_count": 7,
   "metadata": {},
   "outputs": [
    {
     "data": {
      "text/plain": [
       "array([[ 1,  1,  1,  1,  1,  1,  1,  1,  1,  1,  1,  1,  1,  1],\n",
       "       [ 1,  1,  1,  1,  1,  1,  1,  1,  1,  1,  1,  1,  1,  1],\n",
       "       [ 1,  1,  1,  1,  1,  1,  1,  1,  1,  1,  1,  1,  1,  1],\n",
       "       [ 1,  1,  1,  1,  1,  1,  1,  1,  1,  1,  1,  1,  2,  2],\n",
       "       [ 1,  1,  1,  1,  1,  1,  1,  1,  1,  1,  1,  2,  3,  3],\n",
       "       [ 1,  1,  2,  2,  2,  2,  1,  2,  4,  4,  2,  2,  3,  3],\n",
       "       [ 1,  2,  3,  4,  3,  3,  2,  4,  9,  9,  4,  1,  2,  2],\n",
       "       [ 1,  3,  6,  6,  4,  3,  2,  4,  9,  9,  4,  1,  1,  1],\n",
       "       [ 1,  4, 10, 10,  5,  2,  1,  2,  4,  4,  2,  1,  1,  1],\n",
       "       [ 1,  4,  9,  9,  4,  2,  1,  1,  1,  1,  1,  1,  1,  1],\n",
       "       [ 1,  2,  4,  4,  2,  1,  1,  1,  1,  1,  1,  1,  1,  1],\n",
       "       [ 1,  1,  1,  1,  1,  1,  1,  1,  1,  1,  1,  1,  1,  1],\n",
       "       [ 1,  1,  1,  1,  1,  1,  1,  1,  1,  1,  1,  1,  1,  1],\n",
       "       [ 1,  1,  1,  1,  1,  1,  1,  1,  1,  1,  1,  1,  1,  1]],\n",
       "      dtype=uint8)"
      ]
     },
     "execution_count": 7,
     "metadata": {},
     "output_type": "execute_result"
    }
   ],
   "source": [
    "total = cv2.resize(activation * gradient, target_size)\n",
    "total"
   ]
  }
 ],
 "metadata": {
  "kernelspec": {
   "display_name": "base",
   "language": "python",
   "name": "python3"
  },
  "language_info": {
   "codemirror_mode": {
    "name": "ipython",
    "version": 3
   },
   "file_extension": ".py",
   "mimetype": "text/x-python",
   "name": "python",
   "nbconvert_exporter": "python",
   "pygments_lexer": "ipython3",
   "version": "3.10.14"
  }
 },
 "nbformat": 4,
 "nbformat_minor": 2
}

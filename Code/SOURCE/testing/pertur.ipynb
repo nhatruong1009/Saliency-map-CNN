{
 "cells": [
  {
   "cell_type": "code",
   "execution_count": 12,
   "metadata": {},
   "outputs": [],
   "source": [
    "import numpy as np\n",
    "per1 = np.array([[0,0,0,0],\n",
    "                 [0,1,1,1],\n",
    "                 [0,1,1,1],\n",
    "                 [0,1,1,1]])\n",
    "per2 = np.array([[1,0,1,1],\n",
    "                 [0,0,0,0],\n",
    "                 [1,0,1,1],\n",
    "                 [1,0,1,1]])\n",
    "per3 = np.array([[1,1,0,1],\n",
    "                 [1,1,0,1],\n",
    "                 [0,0,0,0],\n",
    "                 [1,1,0,1]])\n",
    "per4 = np.array([[1,1,1,0],\n",
    "                 [1,1,1,0],\n",
    "                 [1,1,1,0],\n",
    "                 [0,0,0,0]])\n",
    "a = np.array([[0.20, 0.01, 0.01, 0.01],\n",
    "              [0.15, 0.01, 0.01, 0.02],\n",
    "              [0.01, 0.01, 0.01, 0.14],\n",
    "              [0.01, 0.01, 0.01, 0.01]])"
   ]
  },
  {
   "cell_type": "code",
   "execution_count": 17,
   "metadata": {},
   "outputs": [],
   "source": [
    "map1 = np.full((4,4), np.mean(a*per1))\n",
    "map2 = np.full((4,4), np.mean(a*per2))\n",
    "map3 = np.full((4,4), np.mean(a*per3))\n",
    "map4 = np.full((4,4), np.mean(a*per4))"
   ]
  },
  {
   "cell_type": "code",
   "execution_count": 23,
   "metadata": {},
   "outputs": [
    {
     "data": {
      "text/plain": [
       "array([[0.02625, 0.02625, 0.02625, 0.     ],\n",
       "       [0.02625, 0.02625, 0.02625, 0.     ],\n",
       "       [0.02625, 0.02625, 0.02625, 0.     ],\n",
       "       [0.     , 0.     , 0.     , 0.     ]])"
      ]
     },
     "execution_count": 23,
     "metadata": {},
     "output_type": "execute_result"
    }
   ],
   "source": [
    "map1*per1"
   ]
  },
  {
   "cell_type": "code",
   "execution_count": 24,
   "metadata": {},
   "outputs": [
    {
     "data": {
      "text/plain": [
       "array([[0.025625, 0.      , 0.025625, 0.025625],\n",
       "       [0.      , 0.      , 0.      , 0.      ],\n",
       "       [0.025625, 0.      , 0.025625, 0.025625],\n",
       "       [0.025625, 0.      , 0.025625, 0.025625]])"
      ]
     },
     "execution_count": 24,
     "metadata": {},
     "output_type": "execute_result"
    }
   ],
   "source": [
    "map2*per2"
   ]
  },
  {
   "cell_type": "code",
   "execution_count": 25,
   "metadata": {},
   "outputs": [
    {
     "data": {
      "text/plain": [
       "array([[0.026875, 0.026875, 0.      , 0.026875],\n",
       "       [0.026875, 0.026875, 0.      , 0.026875],\n",
       "       [0.      , 0.      , 0.      , 0.      ],\n",
       "       [0.026875, 0.026875, 0.      , 0.026875]])"
      ]
     },
     "execution_count": 25,
     "metadata": {},
     "output_type": "execute_result"
    }
   ],
   "source": [
    "map3*per3"
   ]
  },
  {
   "cell_type": "code",
   "execution_count": 26,
   "metadata": {},
   "outputs": [
    {
     "data": {
      "text/plain": [
       "array([[0.02625, 0.02625, 0.02625, 0.     ],\n",
       "       [0.02625, 0.02625, 0.02625, 0.     ],\n",
       "       [0.02625, 0.02625, 0.02625, 0.     ],\n",
       "       [0.     , 0.     , 0.     , 0.     ]])"
      ]
     },
     "execution_count": 26,
     "metadata": {},
     "output_type": "execute_result"
    }
   ],
   "source": [
    "map4*per4"
   ]
  },
  {
   "cell_type": "code",
   "execution_count": 22,
   "metadata": {},
   "outputs": [
    {
     "data": {
      "text/plain": [
       "array([[0.07875 , 0.053125, 0.051875, 0.0525  ],\n",
       "       [0.053125, 0.0675  , 0.040625, 0.04125 ],\n",
       "       [0.051875, 0.040625, 0.06625 , 0.04    ],\n",
       "       [0.0525  , 0.04125 , 0.04    , 0.066875]])"
      ]
     },
     "execution_count": 22,
     "metadata": {},
     "output_type": "execute_result"
    }
   ],
   "source": [
    "map1*per1 + map2*per2 + map3*per3 + map4*per4"
   ]
  }
 ],
 "metadata": {
  "kernelspec": {
   "display_name": "lnduc",
   "language": "python",
   "name": "python3"
  },
  "language_info": {
   "codemirror_mode": {
    "name": "ipython",
    "version": 3
   },
   "file_extension": ".py",
   "mimetype": "text/x-python",
   "name": "python",
   "nbconvert_exporter": "python",
   "pygments_lexer": "ipython3",
   "version": "3.10.14"
  }
 },
 "nbformat": 4,
 "nbformat_minor": 2
}

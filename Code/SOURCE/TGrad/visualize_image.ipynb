{
 "cells": [
  {
   "cell_type": "code",
   "execution_count": 1,
   "metadata": {},
   "outputs": [],
   "source": [
    "import os\n",
    "import matplotlib.pyplot as plt\n",
    "import matplotlib.image as mpimg\n",
    "\n",
    "def visualize_image(folder_path, image_name):\n",
    "    # Construct the full path to the image\n",
    "    image_path = os.path.join(folder_path, image_name)\n",
    "    \n",
    "    # Check if the file exists\n",
    "    if not os.path.isfile(image_path):\n",
    "        print(f\"Error: Image '{image_name}' not found in folder '{folder_path}'.\")\n",
    "        return\n",
    "    \n",
    "    # Load and display the image\n",
    "    img = mpimg.imread(image_path)\n",
    "    plt.imshow(img)\n",
    "    plt.axis('off')  # Turn off axis\n",
    "    plt.title(image_name)\n",
    "    plt.show()\n",
    "\n"
   ]
  },
  {
   "cell_type": "code",
   "execution_count": 2,
   "metadata": {},
   "outputs": [
    {
     "name": "stdout",
     "output_type": "stream",
     "text": [
      "Error: Image 'ILSVRC2012_val_00003798.JPEG' not found in folder '../ILSVRC2012_val_folders'.\n"
     ]
    }
   ],
   "source": [
    "# Example usage\n",
    "folder_path = '../ILSVRC2012_val_folders'\n",
    "image_name = 'ILSVRC2012_val_00003798.JPEG'\n",
    "visualize_image(folder_path, image_name)\n"
   ]
  },
  {
   "cell_type": "code",
   "execution_count": 3,
   "metadata": {},
   "outputs": [
    {
     "ename": "FileNotFoundError",
     "evalue": "[Errno 2] No such file or directory: '../ILSVRC2012_val_folders'",
     "output_type": "error",
     "traceback": [
      "\u001b[0;31m---------------------------------------------------------------------------\u001b[0m",
      "\u001b[0;31mFileNotFoundError\u001b[0m                         Traceback (most recent call last)",
      "Cell \u001b[0;32mIn[3], line 10\u001b[0m\n\u001b[1;32m      8\u001b[0m folder_path \u001b[38;5;241m=\u001b[39m \u001b[38;5;124m'\u001b[39m\u001b[38;5;124m../ILSVRC2012_val_folders\u001b[39m\u001b[38;5;124m'\u001b[39m\n\u001b[1;32m      9\u001b[0m \u001b[38;5;66;03m# folder_path = 'images_test'\u001b[39;00m\n\u001b[0;32m---> 10\u001b[0m file_paths \u001b[38;5;241m=\u001b[39m \u001b[43mget_file_paths\u001b[49m\u001b[43m(\u001b[49m\u001b[43mfolder_path\u001b[49m\u001b[43m)\u001b[49m\n",
      "Cell \u001b[0;32mIn[3], line 4\u001b[0m, in \u001b[0;36mget_file_paths\u001b[0;34m(folder_path)\u001b[0m\n\u001b[1;32m      3\u001b[0m \u001b[38;5;28;01mdef\u001b[39;00m \u001b[38;5;21mget_file_paths\u001b[39m(folder_path):\n\u001b[0;32m----> 4\u001b[0m     files \u001b[38;5;241m=\u001b[39m \u001b[43mos\u001b[49m\u001b[38;5;241;43m.\u001b[39;49m\u001b[43mlistdir\u001b[49m\u001b[43m(\u001b[49m\u001b[43mfolder_path\u001b[49m\u001b[43m)\u001b[49m\n\u001b[1;32m      5\u001b[0m     \u001b[38;5;28;01mreturn\u001b[39;00m files\n",
      "\u001b[0;31mFileNotFoundError\u001b[0m: [Errno 2] No such file or directory: '../ILSVRC2012_val_folders'"
     ]
    }
   ],
   "source": [
    "import os\n",
    "\n",
    "def get_file_paths(folder_path):\n",
    "    files = os.listdir(folder_path)\n",
    "    return files\n",
    "\n",
    "# Đường dẫn đến thư mục chứa các tệp\n",
    "folder_path = '../ILSVRC2012_val_folders'\n",
    "# folder_path = 'images_test'\n",
    "file_paths = get_file_paths(folder_path)"
   ]
  },
  {
   "cell_type": "code",
   "execution_count": null,
   "metadata": {},
   "outputs": [],
   "source": [
    "file_paths"
   ]
  }
 ],
 "metadata": {
  "kernelspec": {
   "display_name": "lnduc",
   "language": "python",
   "name": "python3"
  },
  "language_info": {
   "codemirror_mode": {
    "name": "ipython",
    "version": 3
   },
   "file_extension": ".py",
   "mimetype": "text/x-python",
   "name": "python",
   "nbconvert_exporter": "python",
   "pygments_lexer": "ipython3",
   "version": "3.10.14"
  }
 },
 "nbformat": 4,
 "nbformat_minor": 2
}
